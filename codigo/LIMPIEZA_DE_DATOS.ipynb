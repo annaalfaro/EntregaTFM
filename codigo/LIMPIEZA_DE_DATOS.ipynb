{
 "cells": [
  {
   "cell_type": "markdown",
   "id": "bebfdc15",
   "metadata": {},
   "source": [
    "# LIMPIEZA DE DATOS"
   ]
  },
  {
   "cell_type": "code",
   "execution_count": 1,
   "id": "5593829c",
   "metadata": {},
   "outputs": [],
   "source": [
    "#IMPORTACIÓN DE LIBRERÍAS\n",
    "import pandas as pd\n",
    "\n"
   ]
  },
  {
   "cell_type": "code",
   "execution_count": 2,
   "id": "988fa9dc",
   "metadata": {},
   "outputs": [],
   "source": [
    "#DEFINICIÓN DE LIBRERÍAS\n",
    "\n",
    "url_cliente = \"https://raw.githubusercontent.com/annaalfaro/EntregaTFM/main/Cliente_Original.csv\"\n",
    "url_producto = \"https://raw.githubusercontent.com/annaalfaro/EntregaTFM/main/Producto_Original.csv\"\n",
    "url_ventas   = \"https://raw.githubusercontent.com/annaalfaro/EntregaTFM/main/Ventas_Original.csv\"\n",
    "\n",
    "#CARGA DE FICHEROS\n",
    "\n",
    "Cliente = pd.read_csv(url_cliente, sep=';')\n",
    "Producto = pd.read_csv(url_producto, sep=';')\n",
    "Ventas = pd.read_csv(url_ventas, sep=';')\n"
   ]
  },
  {
   "cell_type": "code",
   "execution_count": 3,
   "id": "8211ac2f",
   "metadata": {},
   "outputs": [
    {
     "name": "stdout",
     "output_type": "stream",
     "text": [
      "                  Representante    Ciudad\n",
      "0            Luisa García López      Lima\n",
      "1  Juan Carlos Rodríguez Huamán     Cusco\n",
      "2       Ana María Castro Chávez  Arequipa\n",
      "3      Miguel Ángel Vega Torres  Trujillo\n",
      "4       Carla Fernández Mendoza  Chiclayo\n"
     ]
    }
   ],
   "source": [
    "#VISUALIZACIÓN CLIENTE\n",
    "\n",
    "print(Cliente.head())"
   ]
  },
  {
   "cell_type": "code",
   "execution_count": 4,
   "id": "d6df52ea",
   "metadata": {},
   "outputs": [
    {
     "name": "stdout",
     "output_type": "stream",
     "text": [
      "  CódigoProducto          Descripción   Gama Sistema Operativo  \\\n",
      "0     B00J0O5J4Y  Xiaomi Redmi Note 3  Media     Android 5.0.2   \n",
      "1     B00F3J4B5S    Samsung Galaxy A3   Baja     Android 4.4.4   \n",
      "2     B00NQGP42Y          Moto G Plus  Media     Android 6.0.1   \n",
      "3     B01LQV1YHO      Huawei Nexus 6P   Alta      Android 6.0    \n",
      "4     B018IZ0SWI      BLU Advance 5.0   Baja       Android 4.2   \n",
      "\n",
      "            Pantalla Precio de venta (€)  \n",
      "0       5.5\" IPS LCD              402,24  \n",
      "1  4.5\" Super AMOLED              412,28  \n",
      "2       5.5\" IPS LCD              567,86  \n",
      "3        5.7\" AMOLED              388,14  \n",
      "4           4.5\" TFT              387,18  \n"
     ]
    }
   ],
   "source": [
    "#VISUALIZACIÓN PRODUCTO\n",
    "\n",
    "print(Producto.head())"
   ]
  },
  {
   "cell_type": "code",
   "execution_count": 5,
   "id": "8cfaf23f",
   "metadata": {},
   "outputs": [
    {
     "name": "stdout",
     "output_type": "stream",
     "text": [
      "    Fecha                 Representante CódigoProducto  Unidades\n",
      "0  1/1/14        Valentina Tapia Castro     B00F3J4B5S       4.0\n",
      "1  2/1/14         Gabriela Rojas Huerta     B018IZ0SWI       2.0\n",
      "2  2/1/14       Carla Fernández Mendoza     B01DZJFWNC       1.0\n",
      "3  2/1/14            Luisa García López     B01DZJFWNC       2.0\n",
      "4  2/1/14  Juan Carlos Rodríguez Huamán     B016381QZA       4.0\n"
     ]
    }
   ],
   "source": [
    "#VISUALIZACIÓN VENTAS\n",
    "\n",
    "print(Ventas.head())"
   ]
  },
  {
   "cell_type": "markdown",
   "id": "6e107937",
   "metadata": {},
   "source": [
    "### Buscar valores nulos y eliminarlos"
   ]
  },
  {
   "cell_type": "code",
   "execution_count": 6,
   "id": "d05cf60d",
   "metadata": {},
   "outputs": [
    {
     "data": {
      "text/html": [
       "<div>\n",
       "<style scoped>\n",
       "    .dataframe tbody tr th:only-of-type {\n",
       "        vertical-align: middle;\n",
       "    }\n",
       "\n",
       "    .dataframe tbody tr th {\n",
       "        vertical-align: top;\n",
       "    }\n",
       "\n",
       "    .dataframe thead th {\n",
       "        text-align: right;\n",
       "    }\n",
       "</style>\n",
       "<table border=\"1\" class=\"dataframe\">\n",
       "  <thead>\n",
       "    <tr style=\"text-align: right;\">\n",
       "      <th></th>\n",
       "      <th>CódigoProducto</th>\n",
       "      <th>Descripción</th>\n",
       "      <th>Gama</th>\n",
       "      <th>Sistema Operativo</th>\n",
       "      <th>Pantalla</th>\n",
       "      <th>Precio de venta (€)</th>\n",
       "    </tr>\n",
       "  </thead>\n",
       "  <tbody>\n",
       "  </tbody>\n",
       "</table>\n",
       "</div>"
      ],
      "text/plain": [
       "Empty DataFrame\n",
       "Columns: [CódigoProducto, Descripción, Gama, Sistema Operativo, Pantalla, Precio de venta (€)]\n",
       "Index: []"
      ]
     },
     "execution_count": 6,
     "metadata": {},
     "output_type": "execute_result"
    }
   ],
   "source": [
    "#Buscar valores nulos (blancos o con caracteres raros)\n",
    "\n",
    "Ventas[Ventas.isnull().any(axis=1)]\n",
    "Cliente[Cliente.isnull().any(axis=1)]\n",
    "Producto[Producto.isnull().any(axis=1)]"
   ]
  },
  {
   "cell_type": "code",
   "execution_count": 7,
   "id": "1ea24ef8",
   "metadata": {},
   "outputs": [],
   "source": [
    "# Eliminar blancos:\n",
    "Ventas.dropna(inplace=True)\n",
    "Cliente.dropna(inplace=True)\n",
    "Producto.dropna(inplace=True)"
   ]
  },
  {
   "cell_type": "markdown",
   "id": "b289686d",
   "metadata": {},
   "source": [
    "### Verificar que todos los valores de la columna de representante estan en la tabla ventas y a la inversa"
   ]
  },
  {
   "cell_type": "code",
   "execution_count": 8,
   "id": "2f71d1e4",
   "metadata": {},
   "outputs": [],
   "source": [
    "# 1. Verificar los valores de la columna representante en ambas tablas\n",
    "\n",
    "# Valores únicos en ambos\n",
    "representantes_ventas = set(Ventas['Representante'].unique())\n",
    "representantes_cliente = set(Cliente['Representante'].unique())"
   ]
  },
  {
   "cell_type": "code",
   "execution_count": 9,
   "id": "4c002bce",
   "metadata": {},
   "outputs": [
    {
     "name": "stdout",
     "output_type": "stream",
     "text": [
      "Representantes en Cliente que no están en Ventas:\n",
      "{'José Morales Castro'}\n"
     ]
    }
   ],
   "source": [
    "# Representantes en Cliente que no están en Ventas\n",
    "representantes_faltantes = representantes_cliente - representantes_ventas\n",
    "\n",
    "print(\"Representantes en Cliente que no están en Ventas:\")\n",
    "print(representantes_faltantes)"
   ]
  },
  {
   "cell_type": "code",
   "execution_count": 10,
   "id": "5936bc85",
   "metadata": {},
   "outputs": [
    {
     "data": {
      "text/html": [
       "<div>\n",
       "<style scoped>\n",
       "    .dataframe tbody tr th:only-of-type {\n",
       "        vertical-align: middle;\n",
       "    }\n",
       "\n",
       "    .dataframe tbody tr th {\n",
       "        vertical-align: top;\n",
       "    }\n",
       "\n",
       "    .dataframe thead th {\n",
       "        text-align: right;\n",
       "    }\n",
       "</style>\n",
       "<table border=\"1\" class=\"dataframe\">\n",
       "  <thead>\n",
       "    <tr style=\"text-align: right;\">\n",
       "      <th></th>\n",
       "      <th>Representante</th>\n",
       "      <th>Ciudad</th>\n",
       "    </tr>\n",
       "  </thead>\n",
       "  <tbody>\n",
       "    <tr>\n",
       "      <th>70</th>\n",
       "      <td>José Morales Castro</td>\n",
       "      <td>Sechura</td>\n",
       "    </tr>\n",
       "  </tbody>\n",
       "</table>\n",
       "</div>"
      ],
      "text/plain": [
       "          Representante   Ciudad\n",
       "70  José Morales Castro  Sechura"
      ]
     },
     "execution_count": 10,
     "metadata": {},
     "output_type": "execute_result"
    }
   ],
   "source": [
    "# 2. Mostrar valores no validos:\n",
    "representantes_invalidos = Cliente[Cliente['Representante'].isin(representantes_faltantes)]\n",
    "representantes_invalidos\n"
   ]
  },
  {
   "cell_type": "code",
   "execution_count": 11,
   "id": "eb013828",
   "metadata": {},
   "outputs": [],
   "source": [
    "# 3. Borrar los datos:\n",
    "Cliente = Cliente[~Cliente['Representante'].isin(representantes_faltantes)]\n"
   ]
  },
  {
   "cell_type": "code",
   "execution_count": 12,
   "id": "14e3b1fb",
   "metadata": {},
   "outputs": [
    {
     "name": "stdout",
     "output_type": "stream",
     "text": [
      "Representantes en Cliente que no están en Ventas:\n",
      "{'Valentina Tapia Castro'}\n"
     ]
    }
   ],
   "source": [
    "#Lo mismo a la inversa:\n",
    "\n",
    "# Valores únicos en ambos\n",
    "representantes_ventas = set(Ventas['Representante'].unique())\n",
    "representantes_cliente = set(Cliente['Representante'].unique())\n",
    "\n",
    "# Representantes en Cliente que no están en Ventas\n",
    "representantes_faltantes = representantes_ventas - representantes_cliente\n",
    "\n",
    "print(\"Representantes en Cliente que no están en Ventas:\")\n",
    "print(representantes_faltantes)\n",
    "representantes_invalidos = Ventas[Ventas['Representante'].isin(representantes_faltantes)]\n",
    "representantes_invalidos\n",
    "Ventas = Ventas[~Ventas['Representante'].isin(representantes_faltantes)]\n"
   ]
  },
  {
   "cell_type": "markdown",
   "id": "260e0712",
   "metadata": {},
   "source": [
    "### Verificar lo mismo pero con tabla producto y ventas"
   ]
  },
  {
   "cell_type": "code",
   "execution_count": 13,
   "id": "feca79b4",
   "metadata": {},
   "outputs": [
    {
     "name": "stdout",
     "output_type": "stream",
     "text": [
      "CódigoProducto en Producto que no están en Ventas:\n",
      "set()\n"
     ]
    }
   ],
   "source": [
    "# Mismo proceso para producto y Ventas:\n",
    "# Valores únicos en ambos\n",
    "CódigoProducto_ventas = set(Ventas['CódigoProducto'].unique())\n",
    "CódigoProducto_producto = set(Producto['CódigoProducto'].unique())\n",
    "\n",
    "# CódigoProducto en Procucto que no están en Ventas\n",
    "CódigoProducto_faltantes = CódigoProducto_ventas - CódigoProducto_producto\n",
    "\n",
    "print(\"CódigoProducto en Producto que no están en Ventas:\")\n",
    "print(CódigoProducto_faltantes)\n",
    "CódigoProducto_invalidos = Ventas[Ventas['CódigoProducto'].isin(CódigoProducto_faltantes)]\n",
    "CódigoProducto_invalidos\n",
    "Ventas = Ventas[~Ventas['CódigoProducto'].isin(CódigoProducto_faltantes)]"
   ]
  },
  {
   "cell_type": "code",
   "execution_count": 14,
   "id": "ed28cd30",
   "metadata": {},
   "outputs": [
    {
     "name": "stdout",
     "output_type": "stream",
     "text": [
      "CódigoProducto en Producto que no están en Ventas:\n",
      "set()\n"
     ]
    }
   ],
   "source": [
    "# Mismo proceso para producto y Ventas:\n",
    "# Valores únicos en ambos\n",
    "CódigoProducto_ventas = set(Ventas['CódigoProducto'].unique())\n",
    "CódigoProducto_producto = set(Producto['CódigoProducto'].unique())\n",
    "\n",
    "# CódigoProducto en Procucto que no están en Ventas\n",
    "CódigoProducto_faltantes = CódigoProducto_producto - CódigoProducto_ventas\n",
    "\n",
    "print(\"CódigoProducto en Producto que no están en Ventas:\")\n",
    "print(CódigoProducto_faltantes)\n",
    "CódigoProducto_invalidos = Producto[Producto['CódigoProducto'].isin(CódigoProducto_faltantes)]\n",
    "CódigoProducto_invalidos\n",
    "Producto = Producto[~Producto['CódigoProducto'].isin(CódigoProducto_faltantes)]"
   ]
  },
  {
   "cell_type": "markdown",
   "id": "59a09ea5",
   "metadata": {},
   "source": [
    "### Añadir los campos de codificación que se usaran para claves primarias y únicas."
   ]
  },
  {
   "cell_type": "code",
   "execution_count": 15,
   "id": "f90e588e",
   "metadata": {},
   "outputs": [],
   "source": [
    "# Añadir campo en tabla Cliente\n",
    "Cliente = Cliente.reset_index(drop=True)  \n",
    "Cliente['códigocliente'] = Cliente.index.map(lambda x: f'C{x:04}')\n",
    "\n",
    "# Reordenar columnas: primero código, luego las demás\n",
    "columnas_ordenadas = ['códigocliente'] + [col for col in Cliente.columns if col != 'códigocliente']\n",
    "Cliente = Cliente[columnas_ordenadas]\n"
   ]
  },
  {
   "cell_type": "code",
   "execution_count": 16,
   "id": "eef87d9c",
   "metadata": {},
   "outputs": [
    {
     "name": "stdout",
     "output_type": "stream",
     "text": [
      "  códigocliente                 Representante    Ciudad\n",
      "0         C0000            Luisa García López      Lima\n",
      "1         C0001  Juan Carlos Rodríguez Huamán     Cusco\n",
      "2         C0002       Ana María Castro Chávez  Arequipa\n",
      "3         C0003      Miguel Ángel Vega Torres  Trujillo\n",
      "4         C0004       Carla Fernández Mendoza  Chiclayo\n"
     ]
    }
   ],
   "source": [
    "print(Cliente.head())"
   ]
  },
  {
   "cell_type": "code",
   "execution_count": 17,
   "id": "2f76da7c",
   "metadata": {},
   "outputs": [],
   "source": [
    "# Cambiar la columna representante en la tabla Ventas por el Código cliente\n",
    "\n",
    "# Primero ver que tengan el mismo formato\n",
    "Ventas.columns = Ventas.columns.str.strip().str.lower()\n",
    "Cliente.columns = Cliente.columns.str.strip().str.lower()\n",
    "\n",
    "# Hacer merge con la columna Representante\n",
    "Ventas = Ventas.merge(Cliente[['representante', 'códigocliente']], on='representante', how='left')\n",
    "\n",
    "# Eliminar la columna 'representante' \n",
    "Ventas = Ventas.drop(columns=['representante'])\n"
   ]
  },
  {
   "cell_type": "code",
   "execution_count": 18,
   "id": "d0d86970",
   "metadata": {},
   "outputs": [],
   "source": [
    "# Reordenar para poner CódigoCliente al principio\n",
    "Ventas = Ventas[['fecha', 'códigocliente', 'códigoproducto', 'unidades']]"
   ]
  },
  {
   "cell_type": "code",
   "execution_count": 19,
   "id": "c7a309e7",
   "metadata": {},
   "outputs": [
    {
     "name": "stdout",
     "output_type": "stream",
     "text": [
      "    fecha códigocliente códigoproducto  unidades\n",
      "0  2/1/14         C0008     B018IZ0SWI       2.0\n",
      "1  2/1/14         C0004     B01DZJFWNC       1.0\n",
      "2  2/1/14         C0000     B01DZJFWNC       2.0\n",
      "3  2/1/14         C0001     B016381QZA       4.0\n",
      "4  3/1/14         C0005     B00J0O5J4Y       2.0\n"
     ]
    }
   ],
   "source": [
    "print(Ventas.head())"
   ]
  },
  {
   "cell_type": "code",
   "execution_count": 20,
   "id": "320e156d",
   "metadata": {},
   "outputs": [],
   "source": [
    "#Crear código único tabla Ventas\n",
    "Ventas = Ventas.reset_index(drop=True)\n",
    "\n",
    "# Crear la columna CódigoVentas con formato V000000000\n",
    "Ventas['códigoventas'] = Ventas.index.map(lambda x: f'V{x:09}')\n",
    "\n",
    "# Reordenar columnas\n",
    "Ventas = Ventas[['códigoventas', 'fecha', 'códigocliente', 'códigoproducto', 'unidades']]\n"
   ]
  },
  {
   "cell_type": "code",
   "execution_count": 21,
   "id": "11b993bb",
   "metadata": {},
   "outputs": [
    {
     "name": "stdout",
     "output_type": "stream",
     "text": [
      "  códigoventas   fecha códigocliente códigoproducto  unidades\n",
      "0   V000000000  2/1/14         C0008     B018IZ0SWI       2.0\n",
      "1   V000000001  2/1/14         C0004     B01DZJFWNC       1.0\n",
      "2   V000000002  2/1/14         C0000     B01DZJFWNC       2.0\n",
      "3   V000000003  2/1/14         C0001     B016381QZA       4.0\n",
      "4   V000000004  3/1/14         C0005     B00J0O5J4Y       2.0\n"
     ]
    }
   ],
   "source": [
    "print(Ventas.head())\n"
   ]
  },
  {
   "cell_type": "markdown",
   "id": "8b03e469",
   "metadata": {},
   "source": [
    "### Añadir precio venta en la tabla ventas a partir del campo unidades y del precio que pone en la tabla producto"
   ]
  },
  {
   "cell_type": "code",
   "execution_count": 22,
   "id": "29359e6d",
   "metadata": {},
   "outputs": [],
   "source": [
    "# Asegurar que los campos esten correctos\n",
    "Ventas['codigoproducto'] = Ventas['códigoproducto'].astype(str).str.strip().str.upper()\n",
    "Producto['codigoproducto'] = Producto['CódigoProducto'].astype(str).str.strip().str.upper()"
   ]
  },
  {
   "cell_type": "code",
   "execution_count": 23,
   "id": "1d258035",
   "metadata": {},
   "outputs": [
    {
     "name": "stdout",
     "output_type": "stream",
     "text": [
      "  CódigoProducto          Descripción   Gama Sistema Operativo  \\\n",
      "0     B00J0O5J4Y  Xiaomi Redmi Note 3  Media     Android 5.0.2   \n",
      "1     B00F3J4B5S    Samsung Galaxy A3   Baja     Android 4.4.4   \n",
      "2     B00NQGP42Y          Moto G Plus  Media     Android 6.0.1   \n",
      "3     B01LQV1YHO      Huawei Nexus 6P   Alta      Android 6.0    \n",
      "4     B018IZ0SWI      BLU Advance 5.0   Baja       Android 4.2   \n",
      "\n",
      "            Pantalla Precio de venta (€) codigoproducto  \n",
      "0       5.5\" IPS LCD              402,24     B00J0O5J4Y  \n",
      "1  4.5\" Super AMOLED              412,28     B00F3J4B5S  \n",
      "2       5.5\" IPS LCD              567,86     B00NQGP42Y  \n",
      "3        5.7\" AMOLED              388,14     B01LQV1YHO  \n",
      "4           4.5\" TFT              387,18     B018IZ0SWI  \n"
     ]
    }
   ],
   "source": [
    "print(Producto.head())"
   ]
  },
  {
   "cell_type": "code",
   "execution_count": 24,
   "id": "f73bf49f",
   "metadata": {},
   "outputs": [],
   "source": [
    "# Hacer merge entre Ventas y Producto, solo con la columna precio\n",
    "Ventas = Ventas.merge(Producto[['codigoproducto', 'Precio de venta (€)']], on='codigoproducto', how='left')"
   ]
  },
  {
   "cell_type": "code",
   "execution_count": 25,
   "id": "d2b5fed4",
   "metadata": {},
   "outputs": [
    {
     "name": "stdout",
     "output_type": "stream",
     "text": [
      "  códigoventas   fecha códigocliente códigoproducto  unidades codigoproducto  \\\n",
      "0   V000000000  2/1/14         C0008     B018IZ0SWI       2.0     B018IZ0SWI   \n",
      "1   V000000001  2/1/14         C0004     B01DZJFWNC       1.0     B01DZJFWNC   \n",
      "2   V000000002  2/1/14         C0000     B01DZJFWNC       2.0     B01DZJFWNC   \n",
      "3   V000000003  2/1/14         C0001     B016381QZA       4.0     B016381QZA   \n",
      "4   V000000004  3/1/14         C0005     B00J0O5J4Y       2.0     B00J0O5J4Y   \n",
      "\n",
      "  Precio de venta (€)  \n",
      "0              387,18  \n",
      "1              238,62  \n",
      "2              238,62  \n",
      "3              481,94  \n",
      "4              402,24  \n"
     ]
    }
   ],
   "source": [
    "print(Ventas.head())"
   ]
  },
  {
   "cell_type": "code",
   "execution_count": 26,
   "id": "bde2882c",
   "metadata": {},
   "outputs": [],
   "source": [
    "# Reemplazar coma decimal por punto y convertir a float\n",
    "Ventas['Precio de venta (€)'] = Ventas['Precio de venta (€)'].str.replace(',', '.').astype(float)\n",
    "\n",
    "\n"
   ]
  },
  {
   "cell_type": "code",
   "execution_count": 27,
   "id": "4112e004",
   "metadata": {},
   "outputs": [],
   "source": [
    "# Asegurar de que 'unidades' sea numérica\n",
    "Ventas['unidades'] = pd.to_numeric(Ventas['unidades'], errors='coerce')\n",
    "\n"
   ]
  },
  {
   "cell_type": "code",
   "execution_count": 28,
   "id": "4efcc57d",
   "metadata": {},
   "outputs": [],
   "source": [
    "# Calcular preciototal\n",
    "Ventas['preciototal'] = Ventas['unidades'] * Ventas['Precio de venta (€)']"
   ]
  },
  {
   "cell_type": "code",
   "execution_count": 29,
   "id": "6b44c453",
   "metadata": {},
   "outputs": [
    {
     "name": "stdout",
     "output_type": "stream",
     "text": [
      "  códigoventas   fecha códigocliente códigoproducto  unidades codigoproducto  \\\n",
      "0   V000000000  2/1/14         C0008     B018IZ0SWI       2.0     B018IZ0SWI   \n",
      "1   V000000001  2/1/14         C0004     B01DZJFWNC       1.0     B01DZJFWNC   \n",
      "2   V000000002  2/1/14         C0000     B01DZJFWNC       2.0     B01DZJFWNC   \n",
      "3   V000000003  2/1/14         C0001     B016381QZA       4.0     B016381QZA   \n",
      "4   V000000004  3/1/14         C0005     B00J0O5J4Y       2.0     B00J0O5J4Y   \n",
      "\n",
      "   Precio de venta (€)  preciototal  \n",
      "0               387.18       774.36  \n",
      "1               238.62       238.62  \n",
      "2               238.62       477.24  \n",
      "3               481.94      1927.76  \n",
      "4               402.24       804.48  \n"
     ]
    }
   ],
   "source": [
    "print(Ventas.head())"
   ]
  },
  {
   "cell_type": "code",
   "execution_count": 30,
   "id": "728c9632",
   "metadata": {},
   "outputs": [],
   "source": [
    "# Eliminar columna precio de venta\n",
    "Ventas = Ventas.drop(columns=['Precio de venta (€)'], errors='ignore')\n"
   ]
  },
  {
   "cell_type": "code",
   "execution_count": 31,
   "id": "57a9dbba",
   "metadata": {},
   "outputs": [
    {
     "name": "stdout",
     "output_type": "stream",
     "text": [
      "  códigoventas   fecha códigocliente códigoproducto  unidades codigoproducto  \\\n",
      "0   V000000000  2/1/14         C0008     B018IZ0SWI       2.0     B018IZ0SWI   \n",
      "1   V000000001  2/1/14         C0004     B01DZJFWNC       1.0     B01DZJFWNC   \n",
      "2   V000000002  2/1/14         C0000     B01DZJFWNC       2.0     B01DZJFWNC   \n",
      "3   V000000003  2/1/14         C0001     B016381QZA       4.0     B016381QZA   \n",
      "4   V000000004  3/1/14         C0005     B00J0O5J4Y       2.0     B00J0O5J4Y   \n",
      "\n",
      "   preciototal  \n",
      "0       774.36  \n",
      "1       238.62  \n",
      "2       477.24  \n",
      "3      1927.76  \n",
      "4       804.48  \n"
     ]
    }
   ],
   "source": [
    "print(Ventas.head())"
   ]
  },
  {
   "cell_type": "markdown",
   "id": "b5c10bef",
   "metadata": {},
   "source": [
    "### Guardar las tablas ya limpiadas"
   ]
  },
  {
   "cell_type": "code",
   "execution_count": 32,
   "id": "ec1024fe",
   "metadata": {},
   "outputs": [],
   "source": [
    "# Guardar las tablas como CSV en el mismo directorio del proyecto\n",
    "Ventas.to_csv(\"Ventas.csv\", index=False)\n",
    "Producto.to_csv(\"Producto.csv\", index=False)\n",
    "Cliente.to_csv(\"Cliente.csv\", index=False)\n"
   ]
  }
 ],
 "metadata": {
  "kernelspec": {
   "display_name": "Python 3 (ipykernel)",
   "language": "python",
   "name": "python3"
  },
  "language_info": {
   "codemirror_mode": {
    "name": "ipython",
    "version": 3
   },
   "file_extension": ".py",
   "mimetype": "text/x-python",
   "name": "python",
   "nbconvert_exporter": "python",
   "pygments_lexer": "ipython3",
   "version": "3.11.5"
  }
 },
 "nbformat": 4,
 "nbformat_minor": 5
}
