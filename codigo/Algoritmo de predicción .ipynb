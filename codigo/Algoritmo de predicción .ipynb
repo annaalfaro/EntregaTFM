{
 "cells": [
  {
   "cell_type": "markdown",
   "id": "f3a63e1d",
   "metadata": {},
   "source": [
    "# Algoritmo de predicción"
   ]
  },
  {
   "cell_type": "code",
   "execution_count": 1,
   "id": "7a325e1c",
   "metadata": {},
   "outputs": [],
   "source": [
    "# IMPORTAR LIBRERIAS\n",
    "import pandas as pd\n",
    "import numpy as np\n",
    "from xgboost import XGBRegressor\n",
    "from sklearn.metrics import mean_squared_error, mean_absolute_error, r2_score\n",
    "from lightgbm import LGBMRegressor\n",
    "from catboost import CatBoostRegressor\n",
    "from sklearn.linear_model import ElasticNet\n",
    "import matplotlib.pyplot as plt\n",
    "import plotly.express as px\n",
    "from tqdm import tqdm\n"
   ]
  },
  {
   "cell_type": "code",
   "execution_count": 2,
   "id": "f3143b23",
   "metadata": {},
   "outputs": [],
   "source": [
    "# CARGA DE DATOS\n",
    "url_cliente = \"https://raw.githubusercontent.com/annaalfaro/EntregaTFM/main/Cliente.csv\"\n",
    "url_producto = \"https://raw.githubusercontent.com/annaalfaro/EntregaTFM/main/Producto.csv\"\n",
    "url_ventas   = \"https://raw.githubusercontent.com/annaalfaro/EntregaTFM/main/Ventas_2014-2024.csv\"\n",
    "\n",
    "Cliente = pd.read_csv(url_cliente)\n",
    "Producto = pd.read_csv(url_producto)\n",
    "ventas = pd.read_csv(url_ventas)"
   ]
  },
  {
   "cell_type": "code",
   "execution_count": 3,
   "id": "ac706848",
   "metadata": {},
   "outputs": [],
   "source": [
    "# Procesado de datos\n",
    "ventas['fecha'] = pd.to_datetime(ventas['fecha'])\n",
    "ventas['año'] = ventas['fecha'].dt.year\n",
    "ventas['mes'] = ventas['fecha'].dt.month\n",
    "\n",
    "# AgrupaR por cliente, producto, año y mes\n",
    "ventas_grouped = ventas.groupby(['códigocliente', 'códigoproducto', 'año', 'mes'])['unidades'].sum().reset_index()\n",
    "\n",
    "# Codificar cliente y producto\n",
    "ventas_grouped['cliente_id'] = ventas_grouped['códigocliente'].astype('category').cat.codes\n",
    "ventas_grouped['producto_id'] = ventas_grouped['códigoproducto'].astype('category').cat.codes"
   ]
  },
  {
   "cell_type": "code",
   "execution_count": 4,
   "id": "a981c42f",
   "metadata": {},
   "outputs": [],
   "source": [
    "# Crear datos de entrenamiento con variables adicionales (lags y medias móviles)\n",
    "\n",
    "# Crear columna de unidades anteriores (lag_12: mismo mes año anterior)\n",
    "ventas_grouped = ventas_grouped.sort_values(by=['cliente_id', 'producto_id', 'año', 'mes'])\n",
    "ventas_grouped['lag_12'] = ventas_grouped.groupby(['cliente_id', 'producto_id'])['unidades'].shift(1)\n",
    "\n",
    "# Crear media de últimos 3 valores históricos\n",
    "ventas_grouped['mean_last_3'] = ventas_grouped.groupby(['cliente_id', 'producto_id'])['unidades'].transform(lambda x: x.shift(1).rolling(3).mean())\n",
    "\n",
    "# Crear tendencia: diferencia con año anterior\n",
    "ventas_grouped['unidades_prev'] = ventas_grouped.groupby(['cliente_id', 'producto_id'])['unidades'].shift(1)\n",
    "ventas_grouped['trend'] = ventas_grouped['unidades'] - ventas_grouped['unidades_prev']\n",
    "\n",
    "# Eliminar filas con NaNs en nuevas variables\n",
    "ventas_grouped = ventas_grouped.dropna(subset=['lag_12', 'mean_last_3', 'trend'])\n",
    "features = ['año', 'mes', 'cliente_id', 'producto_id', 'lag_12', 'mean_last_3', 'trend']\n",
    "target = 'unidades'\n",
    "\n",
    "# Preparar datos de test y de entreno\n",
    "train_data = ventas_grouped[ventas_grouped['año'] < 2024]\n",
    "test_data = ventas_grouped[ventas_grouped['año'] == 2024]\n",
    "\n",
    "X_train = train_data[features]\n",
    "y_train = train_data[target]\n",
    "X_test = test_data[features]\n",
    "y_test = test_data[target]\n"
   ]
  },
  {
   "cell_type": "code",
   "execution_count": 5,
   "id": "f676c825",
   "metadata": {},
   "outputs": [
    {
     "data": {
      "text/html": [
       "<style>#sk-container-id-1 {color: black;background-color: white;}#sk-container-id-1 pre{padding: 0;}#sk-container-id-1 div.sk-toggleable {background-color: white;}#sk-container-id-1 label.sk-toggleable__label {cursor: pointer;display: block;width: 100%;margin-bottom: 0;padding: 0.3em;box-sizing: border-box;text-align: center;}#sk-container-id-1 label.sk-toggleable__label-arrow:before {content: \"▸\";float: left;margin-right: 0.25em;color: #696969;}#sk-container-id-1 label.sk-toggleable__label-arrow:hover:before {color: black;}#sk-container-id-1 div.sk-estimator:hover label.sk-toggleable__label-arrow:before {color: black;}#sk-container-id-1 div.sk-toggleable__content {max-height: 0;max-width: 0;overflow: hidden;text-align: left;background-color: #f0f8ff;}#sk-container-id-1 div.sk-toggleable__content pre {margin: 0.2em;color: black;border-radius: 0.25em;background-color: #f0f8ff;}#sk-container-id-1 input.sk-toggleable__control:checked~div.sk-toggleable__content {max-height: 200px;max-width: 100%;overflow: auto;}#sk-container-id-1 input.sk-toggleable__control:checked~label.sk-toggleable__label-arrow:before {content: \"▾\";}#sk-container-id-1 div.sk-estimator input.sk-toggleable__control:checked~label.sk-toggleable__label {background-color: #d4ebff;}#sk-container-id-1 div.sk-label input.sk-toggleable__control:checked~label.sk-toggleable__label {background-color: #d4ebff;}#sk-container-id-1 input.sk-hidden--visually {border: 0;clip: rect(1px 1px 1px 1px);clip: rect(1px, 1px, 1px, 1px);height: 1px;margin: -1px;overflow: hidden;padding: 0;position: absolute;width: 1px;}#sk-container-id-1 div.sk-estimator {font-family: monospace;background-color: #f0f8ff;border: 1px dotted black;border-radius: 0.25em;box-sizing: border-box;margin-bottom: 0.5em;}#sk-container-id-1 div.sk-estimator:hover {background-color: #d4ebff;}#sk-container-id-1 div.sk-parallel-item::after {content: \"\";width: 100%;border-bottom: 1px solid gray;flex-grow: 1;}#sk-container-id-1 div.sk-label:hover label.sk-toggleable__label {background-color: #d4ebff;}#sk-container-id-1 div.sk-serial::before {content: \"\";position: absolute;border-left: 1px solid gray;box-sizing: border-box;top: 0;bottom: 0;left: 50%;z-index: 0;}#sk-container-id-1 div.sk-serial {display: flex;flex-direction: column;align-items: center;background-color: white;padding-right: 0.2em;padding-left: 0.2em;position: relative;}#sk-container-id-1 div.sk-item {position: relative;z-index: 1;}#sk-container-id-1 div.sk-parallel {display: flex;align-items: stretch;justify-content: center;background-color: white;position: relative;}#sk-container-id-1 div.sk-item::before, #sk-container-id-1 div.sk-parallel-item::before {content: \"\";position: absolute;border-left: 1px solid gray;box-sizing: border-box;top: 0;bottom: 0;left: 50%;z-index: -1;}#sk-container-id-1 div.sk-parallel-item {display: flex;flex-direction: column;z-index: 1;position: relative;background-color: white;}#sk-container-id-1 div.sk-parallel-item:first-child::after {align-self: flex-end;width: 50%;}#sk-container-id-1 div.sk-parallel-item:last-child::after {align-self: flex-start;width: 50%;}#sk-container-id-1 div.sk-parallel-item:only-child::after {width: 0;}#sk-container-id-1 div.sk-dashed-wrapped {border: 1px dashed gray;margin: 0 0.4em 0.5em 0.4em;box-sizing: border-box;padding-bottom: 0.4em;background-color: white;}#sk-container-id-1 div.sk-label label {font-family: monospace;font-weight: bold;display: inline-block;line-height: 1.2em;}#sk-container-id-1 div.sk-label-container {text-align: center;}#sk-container-id-1 div.sk-container {/* jupyter's `normalize.less` sets `[hidden] { display: none; }` but bootstrap.min.css set `[hidden] { display: none !important; }` so we also need the `!important` here to be able to override the default hidden behavior on the sphinx rendered scikit-learn.org. See: https://github.com/scikit-learn/scikit-learn/issues/21755 */display: inline-block !important;position: relative;}#sk-container-id-1 div.sk-text-repr-fallback {display: none;}</style><div id=\"sk-container-id-1\" class=\"sk-top-container\"><div class=\"sk-text-repr-fallback\"><pre>XGBRegressor(base_score=None, booster=None, callbacks=None,\n",
       "             colsample_bylevel=None, colsample_bynode=None,\n",
       "             colsample_bytree=None, device=None, early_stopping_rounds=None,\n",
       "             enable_categorical=False, eval_metric=None, feature_types=None,\n",
       "             gamma=None, grow_policy=None, importance_type=None,\n",
       "             interaction_constraints=None, learning_rate=None, max_bin=None,\n",
       "             max_cat_threshold=None, max_cat_to_onehot=None,\n",
       "             max_delta_step=None, max_depth=None, max_leaves=None,\n",
       "             min_child_weight=None, missing=nan, monotone_constraints=None,\n",
       "             multi_strategy=None, n_estimators=None, n_jobs=None,\n",
       "             num_parallel_tree=None, random_state=42, ...)</pre><b>In a Jupyter environment, please rerun this cell to show the HTML representation or trust the notebook. <br />On GitHub, the HTML representation is unable to render, please try loading this page with nbviewer.org.</b></div><div class=\"sk-container\" hidden><div class=\"sk-item\"><div class=\"sk-estimator sk-toggleable\"><input class=\"sk-toggleable__control sk-hidden--visually\" id=\"sk-estimator-id-1\" type=\"checkbox\" checked><label for=\"sk-estimator-id-1\" class=\"sk-toggleable__label sk-toggleable__label-arrow\">XGBRegressor</label><div class=\"sk-toggleable__content\"><pre>XGBRegressor(base_score=None, booster=None, callbacks=None,\n",
       "             colsample_bylevel=None, colsample_bynode=None,\n",
       "             colsample_bytree=None, device=None, early_stopping_rounds=None,\n",
       "             enable_categorical=False, eval_metric=None, feature_types=None,\n",
       "             gamma=None, grow_policy=None, importance_type=None,\n",
       "             interaction_constraints=None, learning_rate=None, max_bin=None,\n",
       "             max_cat_threshold=None, max_cat_to_onehot=None,\n",
       "             max_delta_step=None, max_depth=None, max_leaves=None,\n",
       "             min_child_weight=None, missing=nan, monotone_constraints=None,\n",
       "             multi_strategy=None, n_estimators=None, n_jobs=None,\n",
       "             num_parallel_tree=None, random_state=42, ...)</pre></div></div></div></div></div>"
      ],
      "text/plain": [
       "XGBRegressor(base_score=None, booster=None, callbacks=None,\n",
       "             colsample_bylevel=None, colsample_bynode=None,\n",
       "             colsample_bytree=None, device=None, early_stopping_rounds=None,\n",
       "             enable_categorical=False, eval_metric=None, feature_types=None,\n",
       "             gamma=None, grow_policy=None, importance_type=None,\n",
       "             interaction_constraints=None, learning_rate=None, max_bin=None,\n",
       "             max_cat_threshold=None, max_cat_to_onehot=None,\n",
       "             max_delta_step=None, max_depth=None, max_leaves=None,\n",
       "             min_child_weight=None, missing=nan, monotone_constraints=None,\n",
       "             multi_strategy=None, n_estimators=None, n_jobs=None,\n",
       "             num_parallel_tree=None, random_state=42, ...)"
      ]
     },
     "execution_count": 5,
     "metadata": {},
     "output_type": "execute_result"
    }
   ],
   "source": [
    "# Modelos predictivos: XGBoost, LightGBM, CatBoost, ElasticNet\n",
    "modelo_xgb = XGBRegressor(random_state=42)\n",
    "modelo_lgbm = LGBMRegressor(random_state=42)\n",
    "modelo_catboost = CatBoostRegressor(verbose=0, random_state=42)\n",
    "modelo_enet = ElasticNet(random_state=42)\n",
    "modelo = XGBRegressor(random_state=42)\n",
    "modelo.fit(X_train, y_train)\n"
   ]
  },
  {
   "cell_type": "code",
   "execution_count": 6,
   "id": "1dc8fa6d",
   "metadata": {},
   "outputs": [
    {
     "data": {
      "text/html": [
       "<style>#sk-container-id-2 {color: black;background-color: white;}#sk-container-id-2 pre{padding: 0;}#sk-container-id-2 div.sk-toggleable {background-color: white;}#sk-container-id-2 label.sk-toggleable__label {cursor: pointer;display: block;width: 100%;margin-bottom: 0;padding: 0.3em;box-sizing: border-box;text-align: center;}#sk-container-id-2 label.sk-toggleable__label-arrow:before {content: \"▸\";float: left;margin-right: 0.25em;color: #696969;}#sk-container-id-2 label.sk-toggleable__label-arrow:hover:before {color: black;}#sk-container-id-2 div.sk-estimator:hover label.sk-toggleable__label-arrow:before {color: black;}#sk-container-id-2 div.sk-toggleable__content {max-height: 0;max-width: 0;overflow: hidden;text-align: left;background-color: #f0f8ff;}#sk-container-id-2 div.sk-toggleable__content pre {margin: 0.2em;color: black;border-radius: 0.25em;background-color: #f0f8ff;}#sk-container-id-2 input.sk-toggleable__control:checked~div.sk-toggleable__content {max-height: 200px;max-width: 100%;overflow: auto;}#sk-container-id-2 input.sk-toggleable__control:checked~label.sk-toggleable__label-arrow:before {content: \"▾\";}#sk-container-id-2 div.sk-estimator input.sk-toggleable__control:checked~label.sk-toggleable__label {background-color: #d4ebff;}#sk-container-id-2 div.sk-label input.sk-toggleable__control:checked~label.sk-toggleable__label {background-color: #d4ebff;}#sk-container-id-2 input.sk-hidden--visually {border: 0;clip: rect(1px 1px 1px 1px);clip: rect(1px, 1px, 1px, 1px);height: 1px;margin: -1px;overflow: hidden;padding: 0;position: absolute;width: 1px;}#sk-container-id-2 div.sk-estimator {font-family: monospace;background-color: #f0f8ff;border: 1px dotted black;border-radius: 0.25em;box-sizing: border-box;margin-bottom: 0.5em;}#sk-container-id-2 div.sk-estimator:hover {background-color: #d4ebff;}#sk-container-id-2 div.sk-parallel-item::after {content: \"\";width: 100%;border-bottom: 1px solid gray;flex-grow: 1;}#sk-container-id-2 div.sk-label:hover label.sk-toggleable__label {background-color: #d4ebff;}#sk-container-id-2 div.sk-serial::before {content: \"\";position: absolute;border-left: 1px solid gray;box-sizing: border-box;top: 0;bottom: 0;left: 50%;z-index: 0;}#sk-container-id-2 div.sk-serial {display: flex;flex-direction: column;align-items: center;background-color: white;padding-right: 0.2em;padding-left: 0.2em;position: relative;}#sk-container-id-2 div.sk-item {position: relative;z-index: 1;}#sk-container-id-2 div.sk-parallel {display: flex;align-items: stretch;justify-content: center;background-color: white;position: relative;}#sk-container-id-2 div.sk-item::before, #sk-container-id-2 div.sk-parallel-item::before {content: \"\";position: absolute;border-left: 1px solid gray;box-sizing: border-box;top: 0;bottom: 0;left: 50%;z-index: -1;}#sk-container-id-2 div.sk-parallel-item {display: flex;flex-direction: column;z-index: 1;position: relative;background-color: white;}#sk-container-id-2 div.sk-parallel-item:first-child::after {align-self: flex-end;width: 50%;}#sk-container-id-2 div.sk-parallel-item:last-child::after {align-self: flex-start;width: 50%;}#sk-container-id-2 div.sk-parallel-item:only-child::after {width: 0;}#sk-container-id-2 div.sk-dashed-wrapped {border: 1px dashed gray;margin: 0 0.4em 0.5em 0.4em;box-sizing: border-box;padding-bottom: 0.4em;background-color: white;}#sk-container-id-2 div.sk-label label {font-family: monospace;font-weight: bold;display: inline-block;line-height: 1.2em;}#sk-container-id-2 div.sk-label-container {text-align: center;}#sk-container-id-2 div.sk-container {/* jupyter's `normalize.less` sets `[hidden] { display: none; }` but bootstrap.min.css set `[hidden] { display: none !important; }` so we also need the `!important` here to be able to override the default hidden behavior on the sphinx rendered scikit-learn.org. See: https://github.com/scikit-learn/scikit-learn/issues/21755 */display: inline-block !important;position: relative;}#sk-container-id-2 div.sk-text-repr-fallback {display: none;}</style><div id=\"sk-container-id-2\" class=\"sk-top-container\"><div class=\"sk-text-repr-fallback\"><pre>ElasticNet(random_state=42)</pre><b>In a Jupyter environment, please rerun this cell to show the HTML representation or trust the notebook. <br />On GitHub, the HTML representation is unable to render, please try loading this page with nbviewer.org.</b></div><div class=\"sk-container\" hidden><div class=\"sk-item\"><div class=\"sk-estimator sk-toggleable\"><input class=\"sk-toggleable__control sk-hidden--visually\" id=\"sk-estimator-id-2\" type=\"checkbox\" checked><label for=\"sk-estimator-id-2\" class=\"sk-toggleable__label sk-toggleable__label-arrow\">ElasticNet</label><div class=\"sk-toggleable__content\"><pre>ElasticNet(random_state=42)</pre></div></div></div></div></div>"
      ],
      "text/plain": [
       "ElasticNet(random_state=42)"
      ]
     },
     "execution_count": 6,
     "metadata": {},
     "output_type": "execute_result"
    }
   ],
   "source": [
    "# Entrenar cada modelo\n",
    "modelo_xgb.fit(X_train, y_train)\n",
    "modelo_lgbm.fit(X_train, y_train)\n",
    "modelo_catboost.fit(X_train, y_train)\n",
    "modelo_enet.fit(X_train, y_train)\n"
   ]
  },
  {
   "cell_type": "code",
   "execution_count": 7,
   "id": "58ea411b",
   "metadata": {},
   "outputs": [],
   "source": [
    "# Predicciones\n",
    "pred_xgb = modelo_xgb.predict(X_test)\n",
    "pred_lgbm = modelo_lgbm.predict(X_test)\n",
    "pred_catboost = modelo_catboost.predict(X_test)\n",
    "pred_enet = modelo_enet.predict(X_test)\n",
    "\n",
    "# Promedio de predicciones\n",
    "y_pred = (pred_xgb + pred_lgbm + pred_catboost + pred_enet) / 4\n"
   ]
  },
  {
   "cell_type": "code",
   "execution_count": 8,
   "id": "26af7d6c",
   "metadata": {},
   "outputs": [
    {
     "name": "stdout",
     "output_type": "stream",
     "text": [
      "Evaluación por rangos de unidades reales (cliente-producto-mes):\n",
      "Rango (0, 5]: MSE=0.01, RMSE=0.07, MAE=0.06, R2=1.00, MAPE=3.70%\n",
      "Rango (5, 10]: MSE=0.01, RMSE=0.08, MAE=0.05, R2=1.00, MAPE=0.61%\n",
      "Rango (10, 20]: MSE=0.03, RMSE=0.17, MAE=0.13, R2=1.00, MAPE=0.86%\n",
      "Rango (20, 50]: MSE=0.20, RMSE=0.45, MAE=0.33, R2=0.99, MAPE=1.24%\n",
      "Rango (50, inf]: Sin datos\n"
     ]
    }
   ],
   "source": [
    "# Evaluación por cliente + producto + mes con métricas por rangos\n",
    "\n",
    "def evaluar_por_rangos(df, y_true_col, y_pred_col):\n",
    "    rangos = [(0, 5), (5, 10), (10, 20), (20, 50), (50, np.inf)]\n",
    "    print(\"Evaluación por rangos de unidades reales (cliente-producto-mes):\")\n",
    "    for r_min, r_max in rangos:\n",
    "        subset = df[(df[y_true_col] > r_min) & (df[y_true_col] <= r_max)]\n",
    "        if not subset.empty:\n",
    "            mse = mean_squared_error(subset[y_true_col], subset[y_pred_col])\n",
    "            rmse = np.sqrt(mse)\n",
    "            mae = mean_absolute_error(subset[y_true_col], subset[y_pred_col])\n",
    "            r2 = r2_score(subset[y_true_col], subset[y_pred_col])\n",
    "            mape = np.mean(np.abs((subset[y_true_col] - subset[y_pred_col]) / np.maximum(subset[y_true_col], 1))) * 100\n",
    "            print(f\"Rango ({r_min}, {r_max}]: MSE={mse:.2f}, RMSE={rmse:.2f}, MAE={mae:.2f}, R2={r2:.2f}, MAPE={mape:.2f}%\")\n",
    "        else:\n",
    "            print(f\"Rango ({r_min}, {r_max}]: Sin datos\")\n",
    "\n",
    "# Comparar predicción con test_data\n",
    "pred_df_eval = test_data.copy()\n",
    "pred_df_eval['y_pred'] = y_pred\n",
    "evaluar_por_rangos(pred_df_eval, 'unidades', 'y_pred')\n"
   ]
  },
  {
   "cell_type": "code",
   "execution_count": 9,
   "id": "8339d3d4",
   "metadata": {},
   "outputs": [],
   "source": [
    "# Generar predicciones para 2025 usando ensamblado de modelos\n",
    "clientes = ventas_grouped['cliente_id'].unique()\n",
    "productos = ventas_grouped['producto_id'].unique()\n",
    "meses = list(range(1, 13))\n",
    "años_pred = [2025]\n",
    "predicciones = []\n",
    "\n",
    "for cliente in clientes:\n",
    "    for producto in productos:\n",
    "        for mes in meses:\n",
    "            fila_historica = ventas_grouped[\n",
    "                (ventas_grouped['cliente_id'] == cliente) &\n",
    "                (ventas_grouped['producto_id'] == producto)\n",
    "            ]\n",
    "\n",
    "            fila_lag = fila_historica[\n",
    "                (fila_historica['año'] == 2024) &\n",
    "                (fila_historica['mes'] == mes)\n",
    "            ]\n",
    "            lag_12 = fila_lag['unidades'].values[0] if not fila_lag.empty else np.nan\n",
    "\n",
    "            mean_last_3 = fila_historica[\n",
    "                (fila_historica['mes'] == mes) &\n",
    "                (fila_historica['año'] >= 2021) &\n",
    "                (fila_historica['año'] <= 2023)\n",
    "            ]['unidades'].mean()\n",
    "\n",
    "            fila_pred = pd.DataFrame({\n",
    "                'año': años_pred,\n",
    "                'mes': [mes],\n",
    "                'cliente_id': [cliente],\n",
    "                'producto_id': [producto],\n",
    "                'lag_12': [lag_12],\n",
    "                'mean_last_3': [mean_last_3],\n",
    "                'trend': [0]\n",
    "            }).dropna()\n",
    "\n",
    "            if not fila_pred.empty:\n",
    "                pred_ensamble = (\n",
    "                    modelo_xgb.predict(fila_pred)[0] +\n",
    "                    modelo_lgbm.predict(fila_pred)[0] +\n",
    "                    modelo_catboost.predict(fila_pred)[0] +\n",
    "                    modelo_enet.predict(fila_pred)[0]\n",
    "                ) / 4\n",
    "\n",
    "                pred_ensamble = np.clip(pred_ensamble, 0, np.percentile(y_train, 99))\n",
    "                predicciones.append([cliente, producto, 2025, mes, pred_ensamble])\n",
    "\n",
    "# Crear DataFrame final\n",
    "pred_df = pd.DataFrame(predicciones, columns=['cliente_id', 'producto_id', 'año', 'mes', 'unidades_predichas'])\n",
    "\n"
   ]
  },
  {
   "cell_type": "code",
   "execution_count": 10,
   "id": "3a10ec17",
   "metadata": {},
   "outputs": [],
   "source": [
    "# Reconvertir códigos a etiquetas originales\n",
    "cliente_map = dict(enumerate(ventas_grouped['códigocliente'].astype('category').cat.categories))\n",
    "producto_map = dict(enumerate(ventas_grouped['códigoproducto'].astype('category').cat.categories))\n",
    "pred_df['códigocliente'] = pred_df['cliente_id'].map(cliente_map)\n",
    "pred_df['códigoproducto'] = pred_df['producto_id'].map(producto_map)\n",
    "pred_df['fecha'] = pd.to_datetime(dict(year=pred_df['año'], month=pred_df['mes'], day=1))"
   ]
  },
  {
   "cell_type": "code",
   "execution_count": 11,
   "id": "aa1aae8d",
   "metadata": {},
   "outputs": [],
   "source": [
    "# Preparar datos para generar el csv.\n",
    "pred_df['fecha'] = pd.to_datetime(dict(year=pred_df['año'], month=pred_df['mes'], day=1))\n",
    "pred_df['fecha'] += pd.to_timedelta(np.random.randint(0, 28, size=len(pred_df)), unit='D')\n",
    "\n",
    "# Reconvertir códigos a etiquetas originales\n",
    "cliente_map = dict(enumerate(ventas_grouped['códigocliente'].astype('category').cat.categories))\n",
    "producto_map = dict(enumerate(ventas_grouped['códigoproducto'].astype('category').cat.categories))\n",
    "pred_df['códigocliente'] = pred_df['cliente_id'].map(cliente_map)\n",
    "pred_df['códigoproducto'] = pred_df['producto_id'].map(producto_map)\n",
    "pred_df['unidades_predichas'] = np.round(pred_df['unidades_predichas']).astype(int)\n",
    "\n",
    "# Añadir precio total = unidades_predichas * precio producto\n",
    "Producto['precio'] = Producto['precio de venta (€)'].astype(str).str.replace(',', '.').astype(float)\n",
    "precio_map = dict(zip(Producto['códigoproducto'], Producto['precio']))\n",
    "pred_df['preciototal'] = pred_df.apply(\n",
    "    lambda row: row['unidades_predichas'] * precio_map.get(row['códigoproducto'], 0), axis=1\n",
    ")\n",
    "\n",
    "# Crear código de venta incremental basado en el último valor real\n",
    "ventas['códigoventas'] = ventas['códigoventas'].astype(str)\n",
    "ultimo_codigo_real = ventas['códigoventas'].dropna().sort_values().iloc[-1]\n",
    "numero_base = int(ultimo_codigo_real.strip('V').lstrip('0')) + 1\n",
    "\n",
    "# Formatear y ordenar predicciones\n",
    "pred_df_sorted = pred_df.sort_values(by='fecha').copy()\n",
    "pred_df_sorted.reset_index(drop=True, inplace=True)\n",
    "pred_df_sorted['código_venta'] = ['V' + str(numero_base + i).zfill(9) for i in range(len(pred_df_sorted))]\n",
    "\n",
    "# Seleccionar final de columnas\n",
    "columnas_finales = ['código_venta', 'fecha', 'códigocliente', 'códigoproducto', 'unidades_predichas', 'preciototal']\n",
    "pred_df_sorted = pred_df_sorted[columnas_finales]\n",
    "\n",
    "# Exportar a CSV\n",
    "pred_df_sorted.to_csv(\"predicciones_2025.csv\", index=False)\n"
   ]
  },
  {
   "cell_type": "code",
   "execution_count": null,
   "id": "55e81a6c",
   "metadata": {},
   "outputs": [],
   "source": []
  }
 ],
 "metadata": {
  "kernelspec": {
   "display_name": "Python 3 (ipykernel)",
   "language": "python",
   "name": "python3"
  },
  "language_info": {
   "codemirror_mode": {
    "name": "ipython",
    "version": 3
   },
   "file_extension": ".py",
   "mimetype": "text/x-python",
   "name": "python",
   "nbconvert_exporter": "python",
   "pygments_lexer": "ipython3",
   "version": "3.11.5"
  }
 },
 "nbformat": 4,
 "nbformat_minor": 5
}
